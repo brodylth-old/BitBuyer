{
 "cells": [
  {
   "cell_type": "code",
   "execution_count": 1,
   "metadata": {},
   "outputs": [],
   "source": [
    "import requests\n",
    "from datetime import datetime\n",
    "\n",
    "with open('config.json', 'r') as f:\n",
    "    config = json.load(f)"
   ]
  },
  {
   "cell_type": "code",
   "execution_count": 2,
   "metadata": {},
   "outputs": [
    {
     "ename": "NameError",
     "evalue": "name 'config' is not defined",
     "output_type": "error",
     "traceback": [
      "\u001b[0;31m---------------------------------------------------------------------------\u001b[0m",
      "\u001b[0;31mNameError\u001b[0m                                 Traceback (most recent call last)",
      "\u001b[1;32m/Users/janehumphrey/Brody/BitBuyer/etl.ipynb Cell 2\u001b[0m line \u001b[0;36m3\n\u001b[1;32m      <a href='vscode-notebook-cell:/Users/janehumphrey/Brody/BitBuyer/etl.ipynb#W1sZmlsZQ%3D%3D?line=0'>1</a>\u001b[0m \u001b[39m# get bitcoin current price, will be used for a pipeline\u001b[39;00m\n\u001b[1;32m      <a href='vscode-notebook-cell:/Users/janehumphrey/Brody/BitBuyer/etl.ipynb#W1sZmlsZQ%3D%3D?line=1'>2</a>\u001b[0m api_endpoint \u001b[39m=\u001b[39m \u001b[39m\"\u001b[39m\u001b[39mhttps://api.api-ninjas.com/v1/cryptoprice\u001b[39m\u001b[39m\"\u001b[39m\n\u001b[0;32m----> <a href='vscode-notebook-cell:/Users/janehumphrey/Brody/BitBuyer/etl.ipynb#W1sZmlsZQ%3D%3D?line=2'>3</a>\u001b[0m api_key \u001b[39m=\u001b[39m config[\u001b[39m'\u001b[39m\u001b[39mapi_key\u001b[39m\u001b[39m'\u001b[39m]\n\u001b[1;32m      <a href='vscode-notebook-cell:/Users/janehumphrey/Brody/BitBuyer/etl.ipynb#W1sZmlsZQ%3D%3D?line=3'>4</a>\u001b[0m headers \u001b[39m=\u001b[39m {\n\u001b[1;32m      <a href='vscode-notebook-cell:/Users/janehumphrey/Brody/BitBuyer/etl.ipynb#W1sZmlsZQ%3D%3D?line=4'>5</a>\u001b[0m     \u001b[39m'\u001b[39m\u001b[39mX-Api-Key\u001b[39m\u001b[39m'\u001b[39m: api_key\n\u001b[1;32m      <a href='vscode-notebook-cell:/Users/janehumphrey/Brody/BitBuyer/etl.ipynb#W1sZmlsZQ%3D%3D?line=5'>6</a>\u001b[0m }\n\u001b[1;32m      <a href='vscode-notebook-cell:/Users/janehumphrey/Brody/BitBuyer/etl.ipynb#W1sZmlsZQ%3D%3D?line=6'>7</a>\u001b[0m params \u001b[39m=\u001b[39m {\n\u001b[1;32m      <a href='vscode-notebook-cell:/Users/janehumphrey/Brody/BitBuyer/etl.ipynb#W1sZmlsZQ%3D%3D?line=7'>8</a>\u001b[0m     \u001b[39m'\u001b[39m\u001b[39msymbol\u001b[39m\u001b[39m'\u001b[39m: \u001b[39m'\u001b[39m\u001b[39mBTCUSDC\u001b[39m\u001b[39m'\u001b[39m\n\u001b[1;32m      <a href='vscode-notebook-cell:/Users/janehumphrey/Brody/BitBuyer/etl.ipynb#W1sZmlsZQ%3D%3D?line=8'>9</a>\u001b[0m }\n",
      "\u001b[0;31mNameError\u001b[0m: name 'config' is not defined"
     ]
    }
   ],
   "source": [
    "# get bitcoin current price, will be used for a pipeline\n",
    "api_endpoint = \"https://api.api-ninjas.com/v1/cryptoprice\"\n",
    "api_key = config['api_key']\n",
    "headers = {\n",
    "    'X-Api-Key': api_key\n",
    "}\n",
    "params = {\n",
    "    'symbol': 'BTCUSDC'\n",
    "}\n",
    "\n",
    "response = requests.get(api_endpoint, headers=headers, params=params).json()\n",
    "response['timestamp'] = datetime.fromtimestamp(response['timestamp'])"
   ]
  }
 ],
 "metadata": {
  "kernelspec": {
   "display_name": "Python 3",
   "language": "python",
   "name": "python3"
  },
  "language_info": {
   "codemirror_mode": {
    "name": "ipython",
    "version": 3
   },
   "file_extension": ".py",
   "mimetype": "text/x-python",
   "name": "python",
   "nbconvert_exporter": "python",
   "pygments_lexer": "ipython3",
   "version": "3.12.4"
  }
 },
 "nbformat": 4,
 "nbformat_minor": 2
}
